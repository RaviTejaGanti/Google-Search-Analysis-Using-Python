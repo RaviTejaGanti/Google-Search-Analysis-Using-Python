{
 "cells": [
  {
   "cell_type": "code",
   "execution_count": 1,
   "id": "259dff13",
   "metadata": {},
   "outputs": [],
   "source": [
    "import pandas as pd \n",
    "from pytrends.request import TrendReq \n",
    "import matplotlib.pyplot as plt "
   ]
  },
  {
   "cell_type": "code",
   "execution_count": 2,
   "id": "d5ace261",
   "metadata": {},
   "outputs": [],
   "source": [
    "pytrend = TrendReq()"
   ]
  },
  {
   "cell_type": "code",
   "execution_count": 7,
   "id": "6d9000cb",
   "metadata": {},
   "outputs": [],
   "source": [
    "key_words_list = [\"Digital analyst\"]\n",
    "pytrend.build_payload(key_words_list,cat=0, timeframe='today 5-y')"
   ]
  },
  {
   "cell_type": "code",
   "execution_count": 12,
   "id": "5aa49d31",
   "metadata": {},
   "outputs": [
    {
     "name": "stdout",
     "output_type": "stream",
     "text": [
      "            Digital analyst  isPartial\n",
      "date                                  \n",
      "2024-05-19              100      False\n",
      "2023-02-05               96      False\n",
      "2022-02-13               94      False\n",
      "2024-06-09               94      False\n",
      "2024-03-17               94      False\n",
      "2024-07-14               93      False\n",
      "2022-09-18               92      False\n",
      "2022-10-09               92      False\n",
      "2022-10-16               92      False\n",
      "2024-01-28               91      False\n"
     ]
    }
   ],
   "source": [
    "data = pytrend.interest_over_time() \n",
    "data = data.sort_values(by=\"Digital analyst\", ascending = False) \n",
    "data = data.head(10) \n",
    "print(data)"
   ]
  },
  {
   "cell_type": "code",
   "execution_count": 14,
   "id": "4fd4303c",
   "metadata": {},
   "outputs": [
    {
     "name": "stdout",
     "output_type": "stream",
     "text": [
      "                Digital analyst\n",
      "geoName                        \n",
      "Singapore                   100\n",
      "Nigeria                      57\n",
      "India                        47\n",
      "United Kingdom               47\n",
      "Sri Lanka                    42\n",
      "Hong Kong                    36\n",
      "Kenya                        36\n",
      "Ireland                      36\n",
      "Canada                       36\n",
      "New Zealand                  36\n"
     ]
    }
   ],
   "source": [
    "data = pytrend.interest_by_region() \n",
    "data = data.sort_values(by=\"Digital analyst\",  \n",
    "                        ascending = False) \n",
    "data = data.head(10) \n",
    "print(data)"
   ]
  },
  {
   "cell_type": "code",
   "execution_count": 114,
   "id": "d7d9bb0f",
   "metadata": {},
   "outputs": [
    {
     "data": {
      "text/html": [
       "<div>\n",
       "<style scoped>\n",
       "    .dataframe tbody tr th:only-of-type {\n",
       "        vertical-align: middle;\n",
       "    }\n",
       "\n",
       "    .dataframe tbody tr th {\n",
       "        vertical-align: top;\n",
       "    }\n",
       "\n",
       "    .dataframe thead th {\n",
       "        text-align: right;\n",
       "    }\n",
       "</style>\n",
       "<table border=\"1\" class=\"dataframe\">\n",
       "  <thead>\n",
       "    <tr style=\"text-align: right;\">\n",
       "      <th></th>\n",
       "      <th>Digital analyst</th>\n",
       "    </tr>\n",
       "    <tr>\n",
       "      <th>geoName</th>\n",
       "      <th></th>\n",
       "    </tr>\n",
       "  </thead>\n",
       "  <tbody>\n",
       "    <tr>\n",
       "      <th>Singapore</th>\n",
       "      <td>100</td>\n",
       "    </tr>\n",
       "    <tr>\n",
       "      <th>Nigeria</th>\n",
       "      <td>57</td>\n",
       "    </tr>\n",
       "    <tr>\n",
       "      <th>India</th>\n",
       "      <td>47</td>\n",
       "    </tr>\n",
       "    <tr>\n",
       "      <th>United Kingdom</th>\n",
       "      <td>47</td>\n",
       "    </tr>\n",
       "    <tr>\n",
       "      <th>Sri Lanka</th>\n",
       "      <td>42</td>\n",
       "    </tr>\n",
       "    <tr>\n",
       "      <th>Hong Kong</th>\n",
       "      <td>36</td>\n",
       "    </tr>\n",
       "    <tr>\n",
       "      <th>Kenya</th>\n",
       "      <td>36</td>\n",
       "    </tr>\n",
       "    <tr>\n",
       "      <th>Ireland</th>\n",
       "      <td>36</td>\n",
       "    </tr>\n",
       "    <tr>\n",
       "      <th>Canada</th>\n",
       "      <td>36</td>\n",
       "    </tr>\n",
       "    <tr>\n",
       "      <th>New Zealand</th>\n",
       "      <td>36</td>\n",
       "    </tr>\n",
       "  </tbody>\n",
       "</table>\n",
       "</div>"
      ],
      "text/plain": [
       "                Digital analyst\n",
       "geoName                        \n",
       "Singapore                   100\n",
       "Nigeria                      57\n",
       "India                        47\n",
       "United Kingdom               47\n",
       "Sri Lanka                    42\n",
       "Hong Kong                    36\n",
       "Kenya                        36\n",
       "Ireland                      36\n",
       "Canada                       36\n",
       "New Zealand                  36"
      ]
     },
     "execution_count": 114,
     "metadata": {},
     "output_type": "execute_result"
    }
   ],
   "source": [
    "data.head(10)"
   ]
  },
  {
   "cell_type": "code",
   "execution_count": 20,
   "id": "d5f8f92d",
   "metadata": {},
   "outputs": [
    {
     "data": {
      "text/plain": [
       "dict_values([{'top':                                                query  value\n",
       "0                             digital analyst salary    100\n",
       "1                             marketing analyst jobs     32\n",
       "2                              digital media analyst     21\n",
       "3  a data analyst is working at a small tech star...      2\n",
       "4  a data analyst wants to retrieve information f...      1, 'rising':                                                query  value\n",
       "0  a data analyst is working at a small tech star...  33800\n",
       "1  a data analyst wants to retrieve information f...    850}])"
      ]
     },
     "execution_count": 20,
     "metadata": {},
     "output_type": "execute_result"
    }
   ],
   "source": [
    "pytrend.build_payload(key_words_list,cat=0, timeframe='today 5-y')\n",
    "related_queries = pytrend.related_queries()\n",
    "related_queries.values()"
   ]
  },
  {
   "cell_type": "code",
   "execution_count": null,
   "id": "3a9c8f34",
   "metadata": {},
   "outputs": [],
   "source": []
  }
 ],
 "metadata": {
  "kernelspec": {
   "display_name": "Python 3 (ipykernel)",
   "language": "python",
   "name": "python3"
  },
  "language_info": {
   "codemirror_mode": {
    "name": "ipython",
    "version": 3
   },
   "file_extension": ".py",
   "mimetype": "text/x-python",
   "name": "python",
   "nbconvert_exporter": "python",
   "pygments_lexer": "ipython3",
   "version": "3.10.6"
  }
 },
 "nbformat": 4,
 "nbformat_minor": 5
}
